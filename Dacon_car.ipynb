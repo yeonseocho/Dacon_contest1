{
 "cells": [
  {
   "cell_type": "code",
   "execution_count": 1,
   "outputs": [],
   "source": [
    "import pandas as pd\n",
    "import random\n",
    "import os\n",
    "import numpy as np\n",
    "\n",
    "from sklearn.preprocessing import LabelEncoder\n",
    "from sklearn.tree import DecisionTreeRegressor"
   ],
   "metadata": {
    "collapsed": false,
    "pycharm": {
     "name": "#%%\n"
    }
   }
  },
  {
   "cell_type": "code",
   "execution_count": 2,
   "outputs": [],
   "source": [
    "def seed_everything(seed):\n",
    "    random.seed(seed)\n",
    "    os.environ['PYTHONHASHSEED'] = str(seed)\n",
    "    np.random.seed(seed)\n",
    "\n",
    "seed_everything(42) # Seed 고정"
   ],
   "metadata": {
    "collapsed": false,
    "pycharm": {
     "name": "#%%\n"
    }
   }
  },
  {
   "cell_type": "code",
   "execution_count": 3,
   "outputs": [],
   "source": [
    "train = pd.read_csv('./data/train.csv')\n",
    "test = pd.read_csv('./data/test.csv')"
   ],
   "metadata": {
    "collapsed": false,
    "pycharm": {
     "name": "#%%\n"
    }
   }
  },
  {
   "cell_type": "code",
   "execution_count": 4,
   "outputs": [
    {
     "data": {
      "text/plain": "            ID  생산년도  모델출시년도            브랜드      차량모델명 판매도시 판매구역    주행거리  \\\n0  TRAIN_00000  2018    2014          skoda      fabia  KAT  SLA   85231   \n1  TRAIN_00001  2010    2006         toyota      auris  RKO  SWI  135000   \n2  TRAIN_00002  2002    2002  mercedes-benz  clk-klasa  GNI  WIE  255223   \n3  TRAIN_00003  2006    2001         nissan    x-trail  EHX  WIE  238000   \n4  TRAIN_00004  2007    2007           fiat      bravo  OSW  MAL  251000   \n\n    배기량  압축천연가스(CNG)  경유  가솔린  하이브리드  액화석유가스(LPG)     가격  \n0   999            0   0    1      0            0  51.74  \n1  1598            0   0    1      0            0  41.47  \n2  1796            0   0    1      0            0  17.81  \n3  2184            0   1    0      0            0  18.20  \n4  1910            0   1    0      0            0  17.55  ",
      "text/html": "<div>\n<style scoped>\n    .dataframe tbody tr th:only-of-type {\n        vertical-align: middle;\n    }\n\n    .dataframe tbody tr th {\n        vertical-align: top;\n    }\n\n    .dataframe thead th {\n        text-align: right;\n    }\n</style>\n<table border=\"1\" class=\"dataframe\">\n  <thead>\n    <tr style=\"text-align: right;\">\n      <th></th>\n      <th>ID</th>\n      <th>생산년도</th>\n      <th>모델출시년도</th>\n      <th>브랜드</th>\n      <th>차량모델명</th>\n      <th>판매도시</th>\n      <th>판매구역</th>\n      <th>주행거리</th>\n      <th>배기량</th>\n      <th>압축천연가스(CNG)</th>\n      <th>경유</th>\n      <th>가솔린</th>\n      <th>하이브리드</th>\n      <th>액화석유가스(LPG)</th>\n      <th>가격</th>\n    </tr>\n  </thead>\n  <tbody>\n    <tr>\n      <th>0</th>\n      <td>TRAIN_00000</td>\n      <td>2018</td>\n      <td>2014</td>\n      <td>skoda</td>\n      <td>fabia</td>\n      <td>KAT</td>\n      <td>SLA</td>\n      <td>85231</td>\n      <td>999</td>\n      <td>0</td>\n      <td>0</td>\n      <td>1</td>\n      <td>0</td>\n      <td>0</td>\n      <td>51.74</td>\n    </tr>\n    <tr>\n      <th>1</th>\n      <td>TRAIN_00001</td>\n      <td>2010</td>\n      <td>2006</td>\n      <td>toyota</td>\n      <td>auris</td>\n      <td>RKO</td>\n      <td>SWI</td>\n      <td>135000</td>\n      <td>1598</td>\n      <td>0</td>\n      <td>0</td>\n      <td>1</td>\n      <td>0</td>\n      <td>0</td>\n      <td>41.47</td>\n    </tr>\n    <tr>\n      <th>2</th>\n      <td>TRAIN_00002</td>\n      <td>2002</td>\n      <td>2002</td>\n      <td>mercedes-benz</td>\n      <td>clk-klasa</td>\n      <td>GNI</td>\n      <td>WIE</td>\n      <td>255223</td>\n      <td>1796</td>\n      <td>0</td>\n      <td>0</td>\n      <td>1</td>\n      <td>0</td>\n      <td>0</td>\n      <td>17.81</td>\n    </tr>\n    <tr>\n      <th>3</th>\n      <td>TRAIN_00003</td>\n      <td>2006</td>\n      <td>2001</td>\n      <td>nissan</td>\n      <td>x-trail</td>\n      <td>EHX</td>\n      <td>WIE</td>\n      <td>238000</td>\n      <td>2184</td>\n      <td>0</td>\n      <td>1</td>\n      <td>0</td>\n      <td>0</td>\n      <td>0</td>\n      <td>18.20</td>\n    </tr>\n    <tr>\n      <th>4</th>\n      <td>TRAIN_00004</td>\n      <td>2007</td>\n      <td>2007</td>\n      <td>fiat</td>\n      <td>bravo</td>\n      <td>OSW</td>\n      <td>MAL</td>\n      <td>251000</td>\n      <td>1910</td>\n      <td>0</td>\n      <td>1</td>\n      <td>0</td>\n      <td>0</td>\n      <td>0</td>\n      <td>17.55</td>\n    </tr>\n  </tbody>\n</table>\n</div>"
     },
     "execution_count": 4,
     "metadata": {},
     "output_type": "execute_result"
    }
   ],
   "source": [
    "train.head()"
   ],
   "metadata": {
    "collapsed": false,
    "pycharm": {
     "name": "#%%\n"
    }
   }
  },
  {
   "cell_type": "code",
   "execution_count": null,
   "outputs": [],
   "source": [],
   "metadata": {
    "collapsed": false,
    "pycharm": {
     "name": "#%%\n"
    }
   }
  }
 ],
 "metadata": {
  "kernelspec": {
   "display_name": "Python 3",
   "language": "python",
   "name": "python3"
  },
  "language_info": {
   "codemirror_mode": {
    "name": "ipython",
    "version": 2
   },
   "file_extension": ".py",
   "mimetype": "text/x-python",
   "name": "python",
   "nbconvert_exporter": "python",
   "pygments_lexer": "ipython2",
   "version": "2.7.6"
  }
 },
 "nbformat": 4,
 "nbformat_minor": 0
}